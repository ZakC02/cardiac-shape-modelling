{
 "cells": [
  {
   "cell_type": "code",
   "execution_count": 1,
   "metadata": {},
   "outputs": [
    {
     "name": "stderr",
     "output_type": "stream",
     "text": [
      "C:\\Users\\chahb\\AppData\\Local\\Packages\\PythonSoftwareFoundation.Python.3.11_qbz5n2kfra8p0\\LocalCache\\local-packages\\Python311\\site-packages\\tqdm\\auto.py:21: TqdmWarning: IProgress not found. Please update jupyter and ipywidgets. See https://ipywidgets.readthedocs.io/en/stable/user_install.html\n",
      "  from .autonotebook import tqdm as notebook_tqdm\n"
     ]
    }
   ],
   "source": [
    "from heart_display import load_images\n",
    "from heart_variables import output_path\n",
    "from heart_dataset import HeartDataset\n",
    "from tqdm import tqdm\n",
    "import heart_model as HM\n",
    "import numpy as np\n",
    "import torch\n",
    "import matplotlib.pyplot as plt"
   ]
  },
  {
   "cell_type": "code",
   "execution_count": 41,
   "metadata": {},
   "outputs": [],
   "source": [
    "images, names = load_images(output_path)\n",
    "heart_dataset = HeartDataset(images)"
   ]
  },
  {
   "cell_type": "code",
   "execution_count": 42,
   "metadata": {},
   "outputs": [
    {
     "data": {
      "text/plain": [
       "<All keys matched successfully>"
      ]
     },
     "execution_count": 42,
     "metadata": {},
     "output_type": "execute_result"
    }
   ],
   "source": [
    "device = torch.device(\"cuda\" if torch.cuda.is_available() else \"cpu\")\n",
    "vae_model = HM.VAE(latent_dim=32).to(device)\n",
    "vae_model.load_state_dict(torch.load('C:/Users/boite/Desktop/2A/IMA/IMA206/TP_IMA206_Project/models/vae_model_99.pth'))"
   ]
  },
  {
   "cell_type": "code",
   "execution_count": 43,
   "metadata": {},
   "outputs": [],
   "source": [
    "codes = []\n",
    "\n",
    "with torch.no_grad():\n",
    "    for idx in range(len(heart_dataset)):\n",
    "        oh_image = heart_dataset[idx].unsqueeze(0)\n",
    "        oh_image = oh_image.to(device)\n",
    "        code = vae_model.encoder(oh_image)[0].squeeze(0) # Discard logvar\n",
    "        codes.append(code)"
   ]
  },
  {
   "cell_type": "code",
   "execution_count": 62,
   "metadata": {},
   "outputs": [],
   "source": [
    "list_of_numpy_arrays = [tensor.cpu().numpy() for tensor in codes]\n",
    "\n",
    "# Stack tensors to form a 2D tensor\n",
    "stacked_tensors = torch.stack(codes)\n",
    "\n",
    "# Calculate the mean vector\n",
    "mean_vector = torch.mean(stacked_tensors, dim=0)\n",
    "\n",
    "# Calculate the variance vector\n",
    "variance_vector = torch.var(stacked_tensors, dim=0)"
   ]
  },
  {
   "cell_type": "code",
   "execution_count": 89,
   "metadata": {},
   "outputs": [],
   "source": [
    "# Draw new vectors following a normal distribution\n",
    "num_samples = 10  # Number of new vectors to sample\n",
    "new_vectors = torch.normal(mean_vector.expand(num_samples, -1), torch.sqrt(variance_vector.expand(num_samples, -1))).to('cuda')\n",
    "\n",
    "# print(\"Mean Vector (NumPy):\", mean_vector)\n",
    "# print(\"Variance Vector (NumPy):\", variance_vector)\n",
    "# print(\"New Vectors (NumPy):\", new_vectors[0])"
   ]
  },
  {
   "cell_type": "code",
   "execution_count": 103,
   "metadata": {},
   "outputs": [
    {
     "data": {
      "text/plain": [
       "<matplotlib.image.AxesImage at 0x11159b6d160>"
      ]
     },
     "execution_count": 103,
     "metadata": {},
     "output_type": "execute_result"
    },
    {
     "data": {
      "image/png": "[encoded data removed]",
      "text/plain": [
       "<Figure size 640x480 with 1 Axes>"
      ]
     },
     "metadata": {},
     "output_type": "display_data"
    }
   ],
   "source": [
    "new_vector = new_vectors[4]\n",
    "decoded_vector = vae_model.decoder(new_vector)\n",
    "decoded_vector = decoded_vector.reshape((4,128,128))\n",
    "\n",
    "generated_image = torch.argmax(decoded_vector.permute(1,2,0), dim=2)\n",
    "plt.imshow(generated_image.cpu().numpy())"
   ]
  }
 ],
 "metadata": {
  "kernelspec": {
   "display_name": "base",
   "language": "python",
   "name": "python3"
  },
  "language_info": {
   "codemirror_mode": {
    "name": "ipython",
    "version": 3
   },
   "file_extension": ".py",
   "mimetype": "text/x-python",
   "name": "python",
   "nbconvert_exporter": "python",
   "pygments_lexer": "ipython3",
   "version": "3.11.9"
  }
 },
 "nbformat": 4,
 "nbformat_minor": 2
}
